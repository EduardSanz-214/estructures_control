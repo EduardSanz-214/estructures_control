{
 "cells": [
  {
   "cell_type": "markdown",
   "metadata": {},
   "source": [
    "# Estructura de Control\n",
    "\n",
    "## Nivell 1\n",
    "\n",
    "### Exercici 1\n",
    "\n",
    "L'exercici consisteix a crear un programa que et classifiqui una variable numèrica en funció de l'escala Suspès/Aprovat/Notable/Excel.lent.\n"
   ]
  },
  {
   "cell_type": "code",
   "execution_count": 31,
   "metadata": {},
   "outputs": [],
   "source": [
    "def ClassificaNota(Nota):\n",
    "    print(\"Un \"+str(Nota)+\" es un\")\n",
    "    if Nota<0 or Nota>10:\n",
    "        print(\"Error. La nota ha d'estar entre 0 i 10!\")\n",
    "    elif (Nota <5):\n",
    "        print(\"Suspès\")\n",
    "    elif (Nota>=5)and(Nota<7):\n",
    "        print(\"Aprovat\")\n",
    "    elif (Nota>=7) and (Nota<9):\n",
    "        print(\"Notable\")\n",
    "    else:\n",
    "        print(\"Excel·lent\")"
   ]
  },
  {
   "cell_type": "code",
   "execution_count": 40,
   "metadata": {},
   "outputs": [
    {
     "name": "stdout",
     "output_type": "stream",
     "text": [
      "Un 9 es un\n",
      "Excel·lent\n"
     ]
    }
   ],
   "source": [
    "ClassificaNota(9)"
   ]
  },
  {
   "cell_type": "markdown",
   "metadata": {},
   "source": [
    "### Exercici 2\n",
    "\n",
    "Utilitzant el següent tutorial **Programiz: Python Input, Output and Import** crea un programa que et pregunti dos números. T’ha de mostrar un missatge dient si el primer és més gran, el segon és més gran o són iguals."
   ]
  },
  {
   "cell_type": "code",
   "execution_count": 43,
   "metadata": {
    "scrolled": true
   },
   "outputs": [
    {
     "name": "stdout",
     "output_type": "stream",
     "text": [
      "Entra el primer número :345\n",
      "Entra el segon número :345\n",
      "Els dos números són iguals.\n"
     ]
    }
   ],
   "source": [
    "PrimerNumero=input(\"Entra el primer número :\")\n",
    "SegonNumero=input(\"Entra el segon número :\")\n",
    "if PrimerNumero==SegonNumero:\n",
    "    print(\"Els dos números són iguals.\")\n",
    "elif PrimerNumero>SegonNumero:\n",
    "    print(\"El primer número: \"+str(PrimerNumero)+\", és major que el segon: \"+str(SegonNumero))\n",
    "else:\n",
    "    print(\"El segon número: \"+str(SegonNumero)+\", és més gran que el primer: \"+str(PrimerNumero))\n",
    "    "
   ]
  },
  {
   "cell_type": "markdown",
   "metadata": {},
   "source": [
    "### Exercici 3\n",
    "\n",
    "Crea un programa que et pregunti el teu nom, i et demani un número. Si el número és 0, hauria de mostrar un missatge d'error. En cas contrari, hauria de mostrar el nom repetit tants cops com indiqui el número.\n"
   ]
  },
  {
   "cell_type": "code",
   "execution_count": 48,
   "metadata": {},
   "outputs": [
    {
     "name": "stdout",
     "output_type": "stream",
     "text": [
      "Com et dius?David\n",
      "Quin és el teu número preferit?10\n",
      "David David David David David David David David David David "
     ]
    }
   ],
   "source": [
    "Nom=input(\"Com et dius?\")\n",
    "Numero=int(input(\"Quin és el teu número preferit?\"))\n",
    "if Numero<=0 :\n",
    "    print(\"Aquest número no m'agrada gaire...\")\n",
    "else:\n",
    "    x=0\n",
    "    while x<Numero:\n",
    "        #per imprimir en la mateixa linia, podem fer servir el\n",
    "        #paràmetre end de print.\n",
    "        print(Nom+\" \",end=\"\")\n",
    "        x+=1\n",
    "        "
   ]
  },
  {
   "cell_type": "markdown",
   "metadata": {},
   "source": [
    "### Exercici 4\n",
    "\n",
    "Crear un programa que donada una llista qualsevol, et digui si es simètrica o no. Si ho és, que et digui quants elements té."
   ]
  },
  {
   "cell_type": "code",
   "execution_count": 104,
   "metadata": {},
   "outputs": [],
   "source": [
    "def IntroduirLlista():\n",
    "    Llista=[]\n",
    "    valor=(input(\"Ingresar valor (Enter per finalitzar):\"))\n",
    "    while valor!=\"\":\n",
    "        Llista.append(valor)\n",
    "        valor=(input(\"Ingresar valor (Enter per finalitzar):\"))\n",
    "    return(Llista)    "
   ]
  },
  {
   "cell_type": "code",
   "execution_count": 113,
   "metadata": {
    "scrolled": false
   },
   "outputs": [
    {
     "name": "stdout",
     "output_type": "stream",
     "text": [
      "Ingresar valor (Enter per finalitzar):a\n",
      "Ingresar valor (Enter per finalitzar):s\n",
      "Ingresar valor (Enter per finalitzar):d\n",
      "Ingresar valor (Enter per finalitzar):f\n",
      "Ingresar valor (Enter per finalitzar):g\n",
      "Ingresar valor (Enter per finalitzar):\n",
      "['a', 's', 'd', 'f', 'g']\n",
      "la llista NO és simètrica.\n"
     ]
    }
   ],
   "source": [
    "Llista=IntroduirLlista()\n",
    "print(Llista)\n",
    "LlistaR=list(Llista)\n",
    "LlistaR.reverse()\n",
    "Simetrica=1\n",
    "n=len(Llista)\n",
    "for x in range(n):\n",
    "    if Llista[x]!=LlistaR[x]:\n",
    "        Simetrica=0\n",
    "if Simetrica:\n",
    "    print(\"La llista és simètrica.\")\n",
    "    print(\"Longitud=\"+str(len(Llista)))  \n",
    "else:\n",
    "    print(\"la llista NO és simètrica.\")"
   ]
  },
  {
   "cell_type": "markdown",
   "metadata": {},
   "source": [
    "### Exercici 5\n",
    "\n",
    "Crea un programa que donada una llista, et digui quants números coincideixen amb la seva posició."
   ]
  },
  {
   "cell_type": "code",
   "execution_count": 118,
   "metadata": {},
   "outputs": [
    {
     "name": "stdout",
     "output_type": "stream",
     "text": [
      "Ingresar valor (Enter per finalitzar):a\n",
      "Ingresar valor (Enter per finalitzar):s\n",
      "Ingresar valor (Enter per finalitzar):d\n",
      "Ingresar valor (Enter per finalitzar):f\n",
      "Ingresar valor (Enter per finalitzar):g\n",
      "Ingresar valor (Enter per finalitzar):\n",
      "S'ha produit algun error.\n",
      "Potser no has introduit valors numèrics per poder comparar.\n"
     ]
    }
   ],
   "source": [
    "Llista=IntroduirLlista()\n",
    "n=len(Llista)\n",
    "suma=0\n",
    "try:\n",
    "    for x in range(n):\n",
    "        if x==int(Llista[x]):\n",
    "            suma +=1\n",
    "    print(suma)\n",
    "except:\n",
    "    print(\"S'ha produit algun error.\")\n",
    "    print(\"Potser no has introduit valors numèrics per poder comparar.\")"
   ]
  }
 ],
 "metadata": {
  "kernelspec": {
   "display_name": "Python 3",
   "language": "python",
   "name": "python3"
  },
  "language_info": {
   "codemirror_mode": {
    "name": "ipython",
    "version": 3
   },
   "file_extension": ".py",
   "mimetype": "text/x-python",
   "name": "python",
   "nbconvert_exporter": "python",
   "pygments_lexer": "ipython3",
   "version": "3.8.5"
  }
 },
 "nbformat": 4,
 "nbformat_minor": 4
}
